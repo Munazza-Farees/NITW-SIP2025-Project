{
  "cells": [
    {
      "cell_type": "markdown",
      "metadata": {
        "id": "view-in-github",
        "colab_type": "text"
      },
      "source": [
        "<a href=\"https://colab.research.google.com/github/Munazza-Farees/NITW-SIP2025-Project/blob/main/LNN_LDoS_1.ipynb\" target=\"_parent\"><img src=\"https://colab.research.google.com/assets/colab-badge.svg\" alt=\"Open In Colab\"/></a>"
      ]
    },
    {
      "cell_type": "code",
      "execution_count": 2,
      "metadata": {
        "collapsed": true,
        "id": "z6ETVnd27hPS"
      },
      "outputs": [],
      "source": [
        "# !pip install imblearn torch tqdm"
      ]
    },
    {
      "cell_type": "code",
      "execution_count": 3,
      "metadata": {
        "colab": {
          "base_uri": "https://localhost:8080/"
        },
        "id": "nhUiGyHKxg1p",
        "outputId": "ff011ab0-f087-416b-86d7-753c4603475d"
      },
      "outputs": [
        {
          "output_type": "stream",
          "name": "stdout",
          "text": [
            "CPU Memory Available: 11735.64 MB\n",
            "Using device: cpu\n"
          ]
        }
      ],
      "source": [
        "# Install required packages\n",
        "\n",
        "import pandas as pd\n",
        "import numpy as np\n",
        "from sklearn.preprocessing import StandardScaler, LabelEncoder\n",
        "from sklearn.model_selection import train_test_split\n",
        "from imblearn.over_sampling import SMOTE\n",
        "import torch\n",
        "import torch.nn as nn\n",
        "import torch.optim as optim\n",
        "import gc\n",
        "from tqdm import tqdm  # Progress bar\n",
        "import psutil  # Memory monitoring\n",
        "\n",
        "# Clear memory\n",
        "gc.collect()\n",
        "torch.cuda.empty_cache()\n",
        "\n",
        "# Check available memory\n",
        "print(f\"CPU Memory Available: {psutil.virtual_memory().available / (1024 ** 2):.2f} MB\")\n",
        "if torch.cuda.is_available():\n",
        "    print(f\"GPU Memory Available: {torch.cuda.memory_available() / (1024 ** 2):.2f} MB\")\n",
        "\n",
        "# Set device\n",
        "device = torch.device('cuda' if torch.cuda.is_available() else 'cpu')\n",
        "print(f\"Using device: {device}\")"
      ]
    },
    {
      "cell_type": "code",
      "execution_count": 4,
      "metadata": {
        "colab": {
          "base_uri": "https://localhost:8080/"
        },
        "id": "0hRyXMDVxyvR",
        "outputId": "9218291a-780d-4099-bdda-1fdfedb7b228"
      },
      "outputs": [
        {
          "output_type": "stream",
          "name": "stdout",
          "text": [
            "Features: ['Time', 'Source', 'Destination', 'Protocol', 'Length', 'src_port', 'dst_port', 'Flow_Duration', 'Total_Packets', 'Total_Bytes', 'Mean_Packet_Size', 'Packet_Rate', 'Byte_Rate', 'Packet_Size_Entropy', 'Inter_Arrival_Time_Entropy', 'Packet_Size_Variance', 'Average_Bytes_Per_Packet', 'Average_Bytes_Per_Flow', 'Flow_Count_Per_Source', 'Packet_Loss_Rate', 'Round_Trip_Time', 'Connection_Patterns', 'Traffic_Patterns', 'Label', 'source_ip_entropy', 'source_port_entropy', 'dest_ip_entropy', 'dest_port_entropy']\n",
            "Class distribution: Label\n",
            "normal    1512389\n",
            "attack     659463\n",
            "Name: count, dtype: int64\n"
          ]
        },
        {
          "output_type": "execute_result",
          "data": {
            "text/plain": [
              "9"
            ]
          },
          "metadata": {},
          "execution_count": 4
        }
      ],
      "source": [
        "# Load dataset\n",
        "URL = '/content/drive/MyDrive/Colab Notebooks/Final_data.csv'\n",
        "data = pd.read_csv(URL, low_memory=False, dtype={\n",
        "    'Protocol': 'category',\n",
        "    'Connection_Patterns': 'category',\n",
        "    'Traffic_Patterns': 'category'\n",
        "})\n",
        "\n",
        "# Print dataset info\n",
        "print(\"Features:\", data.columns.tolist())\n",
        "print(\"Class distribution:\", data['Label'].value_counts())\n",
        "\n",
        "# Handle missing values\n",
        "data.fillna(data.mean(numeric_only=True), inplace=True)\n",
        "\n",
        "# Encode categorical features\n",
        "for col in ['Protocol', 'Connection_Patterns', 'Traffic_Patterns']:\n",
        "    data[col] = data[col].cat.codes\n",
        "\n",
        "# Select features and labels\n",
        "features_to_be_scaled = data.drop(['Source', 'Destination', 'Label'], axis=1)\n",
        "labels = data['Label']\n",
        "\n",
        "# Normalize features\n",
        "scaler = StandardScaler()\n",
        "X_scaled = scaler.fit_transform(features_to_be_scaled)\n",
        "\n",
        "# Memory cleanup\n",
        "# del data, features_to_be_scaled\n",
        "gc.collect()"
      ]
    },
    {
      "cell_type": "code",
      "execution_count": 5,
      "metadata": {
        "colab": {
          "base_uri": "https://localhost:8080/"
        },
        "id": "2w5iYHOfsWQD",
        "outputId": "0a782396-0f99-4432-f03b-52073e37c5c7"
      },
      "outputs": [
        {
          "output_type": "stream",
          "name": "stdout",
          "text": [
            "MemAvailable:   10505100 kB\n"
          ]
        }
      ],
      "source": [
        "!cat /proc/meminfo | grep MemAvailable"
      ]
    },
    {
      "cell_type": "code",
      "execution_count": 6,
      "metadata": {
        "id": "WC_ao42Uz2PG"
      },
      "outputs": [],
      "source": [
        "# counts = data['Connection_Patterns'].value_counts()\n",
        "# print(counts)\n",
        "# counts = data['Traffic_Patterns'].value_counts()\n",
        "# print(counts)"
      ]
    },
    {
      "cell_type": "code",
      "execution_count": 7,
      "metadata": {
        "colab": {
          "base_uri": "https://localhost:8080/"
        },
        "id": "lWUE95Qf1rZP",
        "outputId": "00e7d021-69e2-43cd-c3df-0999bd330a3f"
      },
      "outputs": [
        {
          "output_type": "stream",
          "name": "stderr",
          "text": [
            "Creating sequences: 100%|██████████| 2171837/2171837 [00:08<00:00, 263447.29it/s]\n"
          ]
        }
      ],
      "source": [
        "# Create sequences\n",
        "seq_len = 15  # Reduced from 20\n",
        "X_seq, y_seq = [], []\n",
        "for i in tqdm(range(len(X_scaled) - seq_len), desc=\"Creating sequences\"):\n",
        "    X_seq.append(X_scaled[i:i + seq_len])\n",
        "    y_seq.append(labels[i + seq_len])\n",
        "\n",
        "X_seq = np.array(X_seq, dtype=np.float32)  # Use float32 to save memory\n",
        "y_seq = np.array(y_seq)"
      ]
    },
    {
      "cell_type": "code",
      "execution_count": 8,
      "metadata": {
        "id": "FPH2nhl9yc3i"
      },
      "outputs": [],
      "source": [
        "# Apply SMOTE\n",
        "# smote = SMOTE(random_state=42, k_neighbors=3)  # Reduced neighbors\n",
        "# X_reshaped = X_seq.reshape(X_seq.shape[0], -1)\n",
        "# X_balanced, y_balanced = smote.fit_resample(X_reshaped, y_seq)\n",
        "# X_balanced = X_balanced.reshape(-1, seq_len, X_seq.shape[2])"
      ]
    },
    {
      "cell_type": "code",
      "execution_count": 9,
      "metadata": {
        "id": "TQzL90oJq7GF"
      },
      "outputs": [],
      "source": [
        "# print(f\"X_balanced shape: {np.shape(X_balanced)}, dtype: {np.array(X_balanced).dtype}\")\n",
        "# print(f\"Estimated memory (MB): {np.array(X_balanced).nbytes} / (1024 ** 2):.2f\")"
      ]
    },
    {
      "cell_type": "code",
      "execution_count": 10,
      "metadata": {
        "colab": {
          "base_uri": "https://localhost:8080/"
        },
        "id": "2ZtOtZ-T7Wfu",
        "outputId": "ffcf295f-e8fa-4bb5-9913-3d3ca82524f5"
      },
      "outputs": [
        {
          "output_type": "execute_result",
          "data": {
            "text/plain": [
              "0"
            ]
          },
          "metadata": {},
          "execution_count": 10
        }
      ],
      "source": [
        "# Split data\n",
        "# X_train, X_test, y_train, y_test = train_test_split(\n",
        "#     X_balanced, y_balanced, test_size=0.2, random_state=42\n",
        "# )\n",
        "X_train, X_test, y_train, y_test = train_test_split(\n",
        "    X_seq, y_seq, test_size=0.2, random_state=42\n",
        ")\n",
        "\n",
        "# Memory cleanup\n",
        "# del X_seq, y_seq, X_reshaped, X_balanced, y_balanced\n",
        "del X_seq, y_seq\n",
        "gc.collect()"
      ]
    },
    {
      "cell_type": "code",
      "execution_count": 11,
      "metadata": {
        "colab": {
          "base_uri": "https://localhost:8080/"
        },
        "id": "o4uvAEhMcPAv",
        "outputId": "6cd25548-21b1-4db7-d0ea-627f0929652d"
      },
      "outputs": [
        {
          "output_type": "stream",
          "name": "stdout",
          "text": [
            "X_train shape: torch.Size([1737469, 15, 25]), y_train shape: torch.Size([1737469, 1])\n"
          ]
        }
      ],
      "source": [
        "# Encode labels\n",
        "label_encoder = LabelEncoder()\n",
        "y_train_encoded = label_encoder.fit_transform(y_train)\n",
        "y_test_encoded = label_encoder.transform(y_test)\n",
        "\n",
        "# Convert to tensors with error handling\n",
        "device = torch.device('cpu')\n",
        "try:\n",
        "    X_train = torch.tensor(X_train, dtype=torch.float32) # Pin for faster GPU transfer\n",
        "    X_test = torch.tensor(X_test, dtype=torch.float32)\n",
        "    y_train = torch.tensor(y_train_encoded, dtype=torch.float32).unsqueeze(1)\n",
        "    y_test = torch.tensor(y_test_encoded, dtype=torch.float32).unsqueeze(1)\n",
        "except RuntimeError as e_cpu:\n",
        "    print(f\"Tensor conversion failed even on CPU: {e_cpu}\")\n",
        "    raise e_cpu\n",
        "\n",
        "\n",
        "# Move to device (This will now happen during training loop batch-wise)\n",
        "print(f\"X_train shape: {X_train.shape}, y_train shape: {y_train.shape}\")"
      ]
    },
    {
      "cell_type": "code",
      "execution_count": 12,
      "metadata": {
        "colab": {
          "base_uri": "https://localhost:8080/"
        },
        "id": "GDQrCo-VcVjI",
        "outputId": "074d5ff5-0428-4a7d-a342-24307d655d65"
      },
      "outputs": [
        {
          "output_type": "stream",
          "name": "stdout",
          "text": [
            "X_train shape: torch.Size([1737469, 15, 25]), y_train shape: torch.Size([1737469, 1])\n",
            "X_test shape: torch.Size([434368, 15, 25]), y_test shape: torch.Size([434368, 1])\n"
          ]
        },
        {
          "output_type": "execute_result",
          "data": {
            "text/plain": [
              "0"
            ]
          },
          "metadata": {},
          "execution_count": 12
        }
      ],
      "source": [
        "from torch.utils.data import TensorDataset, DataLoader\n",
        "\n",
        "# Ensure shapes match - these should now be torch tensors\n",
        "print(f\"X_train shape: {X_train.shape}, y_train shape: {y_train.shape}\")\n",
        "print(f\"X_test shape: {X_test.shape}, y_test shape: {y_test.shape}\")\n",
        "\n",
        "# Create datasets\n",
        "# These should now be torch tensors due to the conversion above\n",
        "train_dataset = TensorDataset(X_train, y_train)\n",
        "test_dataset = TensorDataset(X_test, y_test)\n",
        "\n",
        "# Create DataLoaders\n",
        "batch_size = 128\n",
        "# Ensure num_workers=0 for Colab or similar environments to avoid multiprocessing issues\n",
        "train_loader = DataLoader(train_dataset, batch_size=batch_size, shuffle=True, num_workers=0, pin_memory=True)\n",
        "test_loader = DataLoader(test_dataset, batch_size=batch_size, shuffle=False, num_workers=0, pin_memory=True)\n",
        "\n",
        "# Memory cleanup - these variables are now likely consumed by the DataLoaders if pin_memory=True\n",
        "# Or just references to the tensors\n",
        "del X_train, y_train\n",
        "gc.collect()"
      ]
    },
    {
      "cell_type": "code",
      "execution_count": 13,
      "metadata": {
        "id": "QZpaXBooWjPB"
      },
      "outputs": [],
      "source": [
        "class LiquidTimeStep(nn.Module):\n",
        "    def __init__(self, input_size, hidden_size):\n",
        "        super(LiquidTimeStep, self).__init__()\n",
        "        self.input_size = input_size\n",
        "        self.hidden_size = hidden_size\n",
        "        self.W_in = nn.Linear(input_size, hidden_size)\n",
        "        self.W_hid = nn.Linear(hidden_size, hidden_size)\n",
        "        self.tau = nn.Parameter(torch.rand(hidden_size).clamp(min=0.5, max=2.0))  # Random tau\n",
        "        # self.tau = nn.Parameter(torch.ones(hidden_size) * 1.0)  # Simplified tau\n",
        "        self.norm = nn.LayerNorm(hidden_size)  # Add normalization\n",
        "\n",
        "    def forward(self, x, h):\n",
        "        dx = torch.tanh(self.W_in(x) + self.W_hid(h))\n",
        "        h_new = h + (dx - h) / self.tau\n",
        "        h_new = self.norm(h_new)\n",
        "        return h_new\n",
        "\n",
        "class LNN(nn.Module):\n",
        "    def __init__(self, input_size, hidden_size, output_size, num_layers=2):\n",
        "        super(LNN, self).__init__()\n",
        "        self.hidden_size = hidden_size\n",
        "        self.output_size = output_size\n",
        "        self.num_layers = num_layers\n",
        "        self.liquid_layers = nn.ModuleList([\n",
        "            LiquidTimeStep(input_size if i == 0 else hidden_size, hidden_size)\n",
        "            for i in range(num_layers)\n",
        "        ])\n",
        "        self.dropout = nn.Dropout(0.2)  # Add dropout\n",
        "        self.output_layer = nn.Linear(hidden_size, output_size)\n",
        "        self.sigmoid = nn.Sigmoid()\n",
        "\n",
        "    def forward(self, x):\n",
        "        batch_size, seq_len, _ = x.size()\n",
        "        h = [torch.zeros(batch_size, self.hidden_size, device=x.device) for _ in range(self.num_layers)]\n",
        "        for t in range(seq_len):\n",
        "            x_t = x[:, t, :]\n",
        "            for i in range(self.num_layers):\n",
        "                h[i] = self.liquid_layers[i](x_t, h[i])\n",
        "                x_t = h[i]\n",
        "        output = self.output_layer(h[-1])\n",
        "        output = self.sigmoid(output)\n",
        "        return output\n",
        "\n",
        "# Hyperparameters\n",
        "input_size = 25  # Number of features\n",
        "hidden_size = 64  # Increased for better capacity\n",
        "output_size = 1  # Binary classification (LDoS or not)\n",
        "num_layers = 2\n",
        "\n",
        "# Initialize model, loss, and optimizer\n",
        "model = LNN(input_size, hidden_size, output_size, num_layers).to(device)\n",
        "criterion = nn.BCELoss()\n",
        "optimizer = optim.AdamW(model.parameters(), lr=0.001, weight_decay=1e-5)  # AdamW with L2"
      ]
    },
    {
      "cell_type": "code",
      "execution_count": 14,
      "metadata": {
        "colab": {
          "base_uri": "https://localhost:8080/"
        },
        "id": "HTrCOhYaXh1k",
        "outputId": "20934bfa-936d-4901-e485-4a84eec61693"
      },
      "outputs": [
        {
          "output_type": "stream",
          "name": "stderr",
          "text": [
            "/tmp/ipython-input-14-2928756355.py:23: FutureWarning: `torch.cuda.amp.GradScaler(args...)` is deprecated. Please use `torch.amp.GradScaler('cuda', args...)` instead.\n",
            "  scaler = GradScaler(enabled=torch.cuda.is_available())\n",
            "Epoch 1/10:   0%|          | 0/13574 [00:00<?, ?it/s]/tmp/ipython-input-14-2928756355.py:33: FutureWarning: `torch.cuda.amp.autocast(args...)` is deprecated. Please use `torch.amp.autocast('cuda', args...)` instead.\n",
            "  with autocast(enabled=torch.cuda.is_available()):\n",
            "Epoch 1/10: 100%|██████████| 13574/13574 [06:01<00:00, 37.58it/s]\n"
          ]
        },
        {
          "output_type": "stream",
          "name": "stdout",
          "text": [
            "Epoch 1/10, Loss: 0.4374, LR: 0.000976\n"
          ]
        },
        {
          "output_type": "stream",
          "name": "stderr",
          "text": [
            "Epoch 2/10: 100%|██████████| 13574/13574 [06:11<00:00, 36.52it/s]\n"
          ]
        },
        {
          "output_type": "stream",
          "name": "stdout",
          "text": [
            "Epoch 2/10, Loss: 0.4230, LR: 0.000905\n"
          ]
        },
        {
          "output_type": "stream",
          "name": "stderr",
          "text": [
            "Epoch 3/10: 100%|██████████| 13574/13574 [06:12<00:00, 36.49it/s]\n"
          ]
        },
        {
          "output_type": "stream",
          "name": "stdout",
          "text": [
            "Epoch 3/10, Loss: 0.4190, LR: 0.000794\n"
          ]
        },
        {
          "output_type": "stream",
          "name": "stderr",
          "text": [
            "Epoch 4/10: 100%|██████████| 13574/13574 [06:07<00:00, 36.95it/s]\n"
          ]
        },
        {
          "output_type": "stream",
          "name": "stdout",
          "text": [
            "Epoch 4/10, Loss: 0.4162, LR: 0.000655\n"
          ]
        },
        {
          "output_type": "stream",
          "name": "stderr",
          "text": [
            "Epoch 5/10: 100%|██████████| 13574/13574 [06:05<00:00, 37.11it/s]\n"
          ]
        },
        {
          "output_type": "stream",
          "name": "stdout",
          "text": [
            "Epoch 5/10, Loss: 0.4135, LR: 0.000501\n"
          ]
        },
        {
          "output_type": "stream",
          "name": "stderr",
          "text": [
            "Epoch 6/10: 100%|██████████| 13574/13574 [06:06<00:00, 36.99it/s]\n"
          ]
        },
        {
          "output_type": "stream",
          "name": "stdout",
          "text": [
            "Epoch 6/10, Loss: 0.4111, LR: 0.000346\n"
          ]
        },
        {
          "output_type": "stream",
          "name": "stderr",
          "text": [
            "Epoch 7/10: 100%|██████████| 13574/13574 [06:04<00:00, 37.26it/s]\n"
          ]
        },
        {
          "output_type": "stream",
          "name": "stdout",
          "text": [
            "Epoch 7/10, Loss: 0.4089, LR: 0.000207\n"
          ]
        },
        {
          "output_type": "stream",
          "name": "stderr",
          "text": [
            "Epoch 8/10: 100%|██████████| 13574/13574 [06:03<00:00, 37.33it/s]\n"
          ]
        },
        {
          "output_type": "stream",
          "name": "stdout",
          "text": [
            "Epoch 8/10, Loss: 0.4069, LR: 0.000096\n"
          ]
        },
        {
          "output_type": "stream",
          "name": "stderr",
          "text": [
            "Epoch 9/10: 100%|██████████| 13574/13574 [06:05<00:00, 37.16it/s]\n"
          ]
        },
        {
          "output_type": "stream",
          "name": "stdout",
          "text": [
            "Epoch 9/10, Loss: 0.4053, LR: 0.000025\n"
          ]
        },
        {
          "output_type": "stream",
          "name": "stderr",
          "text": [
            "Epoch 10/10: 100%|██████████| 13574/13574 [06:08<00:00, 36.84it/s]"
          ]
        },
        {
          "output_type": "stream",
          "name": "stdout",
          "text": [
            "Epoch 10/10, Loss: 0.4042, LR: 0.000001\n"
          ]
        },
        {
          "output_type": "stream",
          "name": "stderr",
          "text": [
            "\n"
          ]
        }
      ],
      "source": [
        "from torch.optim.lr_scheduler import CosineAnnealingLR\n",
        "from torch.cuda.amp import GradScaler, autocast\n",
        "\n",
        "# Training setup\n",
        "num_epochs = 10  # Increased for convergence\n",
        "scheduler = CosineAnnealingLR(optimizer, T_max=num_epochs, eta_min=1e-6)\n",
        "best_loss = float('inf')\n",
        "patience, counter = 5, 0\n",
        "\n",
        "y_train_labels_tensor = train_dataset.tensors[1]\n",
        "\n",
        "# Calculate the number of positive samples (assuming positive class is encoded as 1)\n",
        "num_positive = torch.sum(y_train_labels_tensor)\n",
        "num_samples = len(train_dataset)\n",
        "\n",
        "# Class weights for imbalance\n",
        "pos_weight = torch.tensor([num_samples / (num_positive + 1e-10)]).to(device)\n",
        "criterion = nn.BCELoss(weight=pos_weight)\n",
        "\n",
        "from torch.cuda.amp import GradScaler, autocast\n",
        "\n",
        "# Mixed precision scaler\n",
        "scaler = GradScaler(enabled=torch.cuda.is_available())\n",
        "\n",
        "# Training loop\n",
        "for epoch in range(num_epochs):  # Fixed range syntax\n",
        "    model.train()\n",
        "    total_loss = 0\n",
        "    num_batches = 0\n",
        "    for batch_X, batch_y in tqdm(train_loader, desc=f'Epoch {epoch+1}/{num_epochs}', disable=False):\n",
        "        batch_X, batch_y = batch_X.to(device, non_blocking=True), batch_y.to(device, non_blocking=True)\n",
        "        optimizer.zero_grad(set_to_none=True)\n",
        "        with autocast(enabled=torch.cuda.is_available()):\n",
        "            outputs = model(batch_X)\n",
        "            loss = criterion(outputs, batch_y)\n",
        "        scaler.scale(loss).backward()\n",
        "        scaler.unscale_(optimizer)\n",
        "        torch.nn.utils.clip_grad_norm_(model.parameters(), max_norm=1.0)\n",
        "        scaler.step(optimizer)\n",
        "        scaler.update()\n",
        "        total_loss += loss.item()\n",
        "        num_batches += 1\n",
        "\n",
        "    avg_loss = total_loss / num_batches\n",
        "    scheduler.step()\n",
        "    print(f\"Epoch {epoch+1}/{num_epochs}, Loss: {avg_loss:.4f}, LR: {scheduler.get_last_lr()[0]:.6f}\")\n",
        "\n",
        "    # Early stopping\n",
        "    if avg_loss < best_loss:\n",
        "        best_loss = avg_loss\n",
        "        counter = 0\n",
        "        torch.save(model.state_dict(), 'best_lnn_ldos.pth')\n",
        "    else:\n",
        "        counter += 1\n",
        "        if counter >= patience:\n",
        "            print(\"Early stopping triggered\")\n",
        "            break\n",
        "\n",
        "# Memory cleanup\n",
        "torch.save(model, \"best_lnn_ldos.pth\")\n",
        "torch.cuda.empty_cache()"
      ]
    },
    {
      "cell_type": "code",
      "execution_count": 15,
      "metadata": {
        "id": "9qr7BreQwdHP"
      },
      "outputs": [],
      "source": [
        "# torch.save(model, \"best_lnn_ldos.pth\")\n",
        "# model = LNN(input_size, hidden_size, output_size, num_layers).to(device)\n",
        "# model.load_state_dict(torch.load('best_lnn_ldos.pth', map_location=device))"
      ]
    },
    {
      "cell_type": "code",
      "execution_count": 23,
      "metadata": {
        "colab": {
          "base_uri": "https://localhost:8080/",
          "height": 576
        },
        "id": "IJaxkIuwc138",
        "outputId": "598e19ef-b37f-41eb-9a7b-a1f1b8d3c8a6"
      },
      "outputs": [
        {
          "output_type": "stream",
          "name": "stderr",
          "text": [
            "Evaluating: 100%|██████████| 3394/3394 [00:38<00:00, 88.60it/s]\n"
          ]
        },
        {
          "output_type": "stream",
          "name": "stdout",
          "text": [
            "Test Accuracy: 0.8658\n",
            "Precision: 0.8592\n",
            "Recall: 0.9658\n",
            "F1 Score: 0.9094\n",
            "ROC-AUC: 0.9266\n"
          ]
        },
        {
          "output_type": "display_data",
          "data": {
            "text/plain": [
              "<Figure size 640x480 with 1 Axes>"
            ],
            "image/png": "[encoded data removed]"
          },
          "metadata": {}
        }
      ],
      "source": [
        "from sklearn.metrics import accuracy_score, precision_score, recall_score, f1_score, roc_auc_score\n",
        "import matplotlib.pyplot as plt\n",
        "from sklearn.metrics import roc_curve\n",
        "\n",
        "# Evaluation\n",
        "model = LNN(input_size, hidden_size, output_size, num_layers).to(device)\n",
        "\n",
        "model = torch.load('best_lnn_ldos.pth', map_location=device, weights_only=False)\n",
        "model.eval()\n",
        "\n",
        "all_outputs, all_labels = [], []\n",
        "with torch.no_grad():\n",
        "    for batch_X, batch_y in tqdm(test_loader, desc=\"Evaluating\"):\n",
        "        outputs = model(batch_X.to(device))\n",
        "        all_outputs.append(outputs.cpu().numpy())\n",
        "        all_labels.append(batch_y.numpy())\n",
        "all_outputs = np.concatenate(all_outputs)\n",
        "all_labels = np.concatenate(all_labels)\n",
        "predictions = (all_outputs >= 0.5).astype(np.float32)\n",
        "\n",
        "# Metrics\n",
        "accuracy = accuracy_score(all_labels, predictions)\n",
        "precision = precision_score(all_labels, predictions)\n",
        "recall = recall_score(all_labels, predictions)\n",
        "f1 = f1_score(all_labels, predictions)\n",
        "roc_auc = roc_auc_score(all_labels, all_outputs)\n",
        "\n",
        "print(f\"Test Accuracy: {accuracy:.4f}\")\n",
        "print(f\"Precision: {precision:.4f}\")\n",
        "print(f\"Recall: {recall:.4f}\")\n",
        "print(f\"F1 Score: {f1:.4f}\")\n",
        "print(f\"ROC-AUC: {roc_auc:.4f}\")\n",
        "\n",
        "# ROC curve\n",
        "fpr, tpr, _ = roc_curve(all_labels, all_outputs)\n",
        "plt.plot(fpr, tpr, label=f'ROC Curve (AUC = {roc_auc:.4f})')\n",
        "plt.plot([0, 1], [0, 1], 'k--')\n",
        "plt.xlabel('False Positive Rate')\n",
        "plt.ylabel('True Positive Rate')\n",
        "plt.title('ROC Curve')\n",
        "plt.legend()\n",
        "plt.savefig('roc_curve.png')\n",
        "plt.show()"
      ]
    },
    {
      "cell_type": "code",
      "execution_count": 24,
      "metadata": {
        "collapsed": true,
        "id": "Biib_-4fie1d"
      },
      "outputs": [],
      "source": [
        "# Learning rate scheduler\n",
        "scheduler = optim.lr_scheduler.ReduceLROnPlateau(optimizer, mode='min', factor=0.5, patience=5)\n",
        "\n",
        "y_train_labels_tensor = train_dataset.tensors[1]\n",
        "\n",
        "num_positive = torch.sum(y_train_labels_tensor)\n",
        "num_samples = len(train_dataset)\n",
        "\n",
        "# Class weights for imbalanced data\n",
        "pos_weight = torch.tensor([num_samples / (num_positive + 1e-10)]).to(device)  # Weight for positive class\n",
        "criterion = nn.BCELoss(weight=pos_weight)"
      ]
    },
    {
      "cell_type": "code",
      "execution_count": 28,
      "metadata": {
        "id": "8pOGhHfnigtl",
        "colab": {
          "base_uri": "https://localhost:8080/"
        },
        "outputId": "1413a28d-cbaa-4e92-a620-fdae719459ea"
      },
      "outputs": [
        {
          "output_type": "stream",
          "name": "stdout",
          "text": [
            "Prediction: LDoS Attack, Probability: 0.5822\n"
          ]
        }
      ],
      "source": [
        "# Load the model\n",
        "model = torch.load('best_lnn_ldos.pth', map_location=device, weights_only=False)\n",
        "model.eval()\n",
        "\n",
        "# Example inference on new data\n",
        "new_data = torch.FloatTensor(X_test[:1]).to(device)  # Example: first test sample\n",
        "with torch.no_grad():\n",
        "    prediction = model(new_data)\n",
        "    is_ldos = \"LDoS Attack\" if prediction >= 0.5 else \"Benign\"\n",
        "    print(f\"Prediction: {is_ldos}, Probability: {prediction.item():.4f}\")"
      ]
    },
    {
      "cell_type": "code",
      "execution_count": 29,
      "metadata": {
        "id": "pEHIdxQQ0za4",
        "colab": {
          "base_uri": "https://localhost:8080/",
          "height": 833
        },
        "outputId": "0cd3a777-76cf-4457-e3bb-67ab8da20316"
      },
      "outputs": [
        {
          "output_type": "stream",
          "name": "stdout",
          "text": [
            "Top 10 features:\n",
            " Inter_Arrival_Time_Entropy    0.179866\n",
            "Round_Trip_Time               0.174266\n",
            "src_port                      0.159918\n",
            "Packet_Size_Variance          0.159907\n",
            "Total_Bytes                   0.079951\n",
            "Connection_Patterns           0.043091\n",
            "Total_Packets                 0.041113\n",
            "Average_Bytes_Per_Flow        0.040113\n",
            "Average_Bytes_Per_Packet      0.033757\n",
            "Traffic_Patterns              0.028741\n",
            "dtype: float64\n"
          ]
        },
        {
          "output_type": "display_data",
          "data": {
            "text/plain": [
              "<Figure size 640x480 with 1 Axes>"
            ],
            "image/png": "[encoded data removed]"
          },
          "metadata": {}
        }
      ],
      "source": [
        "from sklearn.ensemble import RandomForestClassifier\n",
        "\n",
        "# Feature importance\n",
        "rf = RandomForestClassifier(n_estimators=50, random_state=42)  # Reduced trees\n",
        "rf.fit(X_scaled, labels)\n",
        "\n",
        "feature_names = features_to_be_scaled.columns\n",
        "feature_importance = pd.Series(rf.feature_importances_, index=feature_names)\n",
        "print(\"Top 10 features:\\n\", feature_importance.nlargest(10))\n",
        "\n",
        "# Plot feature importance\n",
        "feature_importance.nlargest(10).plot(kind='bar')\n",
        "plt.title('Top 10 Feature Importances')\n",
        "plt.savefig('feature_importance.png')\n",
        "plt.show()"
      ]
    },
    {
      "cell_type": "code",
      "execution_count": null,
      "metadata": {
        "id": "DkNDbxXGc3W0"
      },
      "outputs": [],
      "source": [
        "# # Mixed Precision Training (Optional, for GPU)\n",
        "\n",
        "# from torch.cuda.amp import GradScaler, autocast\n",
        "\n",
        "# # Training with mixed precision\n",
        "# scaler = GradScaler()\n",
        "# for epoch in range(num_epochs):\n",
        "#     model.train()\n",
        "#     total_loss = 0\n",
        "#     num_batches = 0\n",
        "#     for batch_X, batch_y in tqdm(train_loader, desc=f'Epoch {epoch+1}/{num_epochs}'):\n",
        "#         batch_X, batch_y = batch_X.to(device), batch_y.to(device)\n",
        "#         optimizer.zero_grad(set_to_none=True)\n",
        "#         with autocast():\n",
        "#             outputs = model(batch_X)\n",
        "#             loss = criterion(outputs, batch_y)\n",
        "#         scaler.scale(loss).backward()\n",
        "#         scaler.step(optimizer)\n",
        "#         scaler.step(optimizer)\n",
        "#         scaler.update()\n",
        "#         total_loss += loss.item()\n",
        "#         num_batches += 1\n",
        "\n",
        "#     avg_loss = total_loss / num_batches\n",
        "#     scheduler.step()\n",
        "#     print(f\"Epoch {epoch+1}/{num_epochs}, Loss: {avg_loss:.4f}, LR: {scheduler.get_last_lr()[0]:.6f}\")\n",
        "\n",
        "#     if avg_loss < best_loss:\n",
        "#         best_loss = avg_loss\n",
        "#         counter = 0\n",
        "#         torch.save(model.state_dict(), 'best_lnn_mixed.pth')\n",
        "#     else:\n",
        "#         counter += 1\n",
        "#         if counter >= patience:\n",
        "#             print(\"Early stopping triggered\")\n",
        "#             break"
      ]
    }
  ],
  "metadata": {
    "colab": {
      "provenance": [],
      "mount_file_id": "1W65XU-OnM_23Ob0aE5C6IhBs1P4ByhG4",
      "authorship_tag": "ABX9TyNcJqthXbiE9Oz1wGfb3LPY",
      "include_colab_link": true
    },
    "kernelspec": {
      "display_name": "Python 3",
      "name": "python3"
    },
    "language_info": {
      "name": "python"
    }
  },
  "nbformat": 4,
  "nbformat_minor": 0
}